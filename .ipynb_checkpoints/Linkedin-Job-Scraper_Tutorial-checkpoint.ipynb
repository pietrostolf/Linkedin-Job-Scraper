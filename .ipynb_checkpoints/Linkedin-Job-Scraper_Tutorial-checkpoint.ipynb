{
 "cells": [
  {
   "cell_type": "code",
   "execution_count": 11,
   "id": "1eae21bc",
   "metadata": {},
   "outputs": [],
   "source": [
    "import requests\n",
    "from bs4 import BeautifulSoup\n",
    "import time\n",
    "import random\n",
    "import pandas as pd"
   ]
  },
  {
   "cell_type": "code",
   "execution_count": 13,
   "id": "9d90c170",
   "metadata": {},
   "outputs": [],
   "source": [
    "title = \"Python Developer\"\n",
    "location = \"Toronto\""
   ]
  },
  {
   "cell_type": "code",
   "execution_count": 19,
   "id": "0ac8d8d7",
   "metadata": {},
   "outputs": [],
   "source": [
    "def request_backoff(url):\n",
    "    headers = {\n",
    "        'User-Agent': 'Mozilla/5.0 (Windows NT 10.0; Win64; x64) AppleWebKit/537.36 (KHTML, like Gecko) Chrome/96.0.4664.110 Safari/537.36'\n",
    "    }\n",
    "    \n",
    "    time.sleep(random.uniform(3,4))\n",
    "    max_retries = 6\n",
    "    delay_base = 3 #initial delay\n",
    "    \n",
    "    for retry_count in range (max_retries):\n",
    "        response = requests.get(url, headers=headers)\n",
    "        \n",
    "        if response.status_code == 200:\n",
    "            return response\n",
    "        elif response.status_code == 429: #rate limited\n",
    "            retry_delay = delay_base * (2 ** retry_count) + random.uniform(0, 1)  # Exponential backoff with random factor\n",
    "            print(f\"Rate limit exceeded. Retrying in {retry_delay} seconds...\")\n",
    "            time.sleep(retry_delay)\n",
    "            \n",
    "        elif response.status_code == 400: #no more jobs\n",
    "            break\n",
    "            \n",
    "        else:\n",
    "            print(f\"Failed to fetch data. Status code: {response.status_code}\")\n",
    "            \n",
    "    print(\"Max retries reached. Aborting.\")\n",
    "    return None"
   ]
  },
  {
   "cell_type": "code",
   "execution_count": 22,
   "id": "f74041fd",
   "metadata": {},
   "outputs": [
    {
     "name": "stdout",
     "output_type": "stream",
     "text": [
      "Rate limit exceeded. Retrying in 3.220496950492937 seconds...\n",
      "<Response [200]>\n",
      "3847723088\n",
      "3761549941\n",
      "3789900117\n",
      "3835928708\n",
      "3842087330\n",
      "3828063931\n",
      "3818730423\n",
      "3824249607\n",
      "3793506685\n",
      "3783108011\n",
      "Rate limit exceeded. Retrying in 3.7106497424617517 seconds...\n",
      "Rate limit exceeded. Retrying in 6.388828586192929 seconds...\n",
      "<Response [200]>\n",
      "3842087330\n",
      "3828063931\n",
      "3818730423\n",
      "3824249607\n",
      "3818361840\n",
      "3793506685\n",
      "3818361829\n",
      "3847902923\n",
      "3783108011\n",
      "3840172578\n",
      "<Response [200]>\n",
      "3787767414\n",
      "3818813473\n",
      "3783999274\n",
      "3746835882\n",
      "3835566820\n",
      "3782003334\n",
      "3782104508\n",
      "3822571496\n",
      "3839588912\n",
      "3784867928\n"
     ]
    },
    {
     "ename": "KeyboardInterrupt",
     "evalue": "",
     "output_type": "error",
     "traceback": [
      "\u001b[1;31m---------------------------------------------------------------------------\u001b[0m",
      "\u001b[1;31mKeyboardInterrupt\u001b[0m                         Traceback (most recent call last)",
      "\u001b[1;32m~\\AppData\\Local\\Temp\\ipykernel_12796\\535447320.py\u001b[0m in \u001b[0;36m<module>\u001b[1;34m\u001b[0m\n\u001b[0;32m      6\u001b[0m     \u001b[0mlist_url\u001b[0m \u001b[1;33m=\u001b[0m \u001b[1;34mf\"https://ca.linkedin.com/jobs-guest/jobs/api/seeMoreJobPostings/search?keywords={title}&location={location}&start={start}\"\u001b[0m\u001b[1;33m\u001b[0m\u001b[1;33m\u001b[0m\u001b[0m\n\u001b[0;32m      7\u001b[0m \u001b[1;33m\u001b[0m\u001b[0m\n\u001b[1;32m----> 8\u001b[1;33m     \u001b[0mresponse\u001b[0m \u001b[1;33m=\u001b[0m \u001b[0mrequest_backoff\u001b[0m\u001b[1;33m(\u001b[0m\u001b[0mlist_url\u001b[0m\u001b[1;33m)\u001b[0m\u001b[1;33m\u001b[0m\u001b[1;33m\u001b[0m\u001b[0m\n\u001b[0m\u001b[0;32m      9\u001b[0m \u001b[1;33m\u001b[0m\u001b[0m\n\u001b[0;32m     10\u001b[0m     \u001b[0mprint\u001b[0m\u001b[1;33m(\u001b[0m\u001b[0mresponse\u001b[0m\u001b[1;33m)\u001b[0m\u001b[1;33m\u001b[0m\u001b[1;33m\u001b[0m\u001b[0m\n",
      "\u001b[1;32m~\\AppData\\Local\\Temp\\ipykernel_12796\\1379660772.py\u001b[0m in \u001b[0;36mrequest_backoff\u001b[1;34m(url)\u001b[0m\n\u001b[0;32m      4\u001b[0m     }\n\u001b[0;32m      5\u001b[0m \u001b[1;33m\u001b[0m\u001b[0m\n\u001b[1;32m----> 6\u001b[1;33m     \u001b[0mtime\u001b[0m\u001b[1;33m.\u001b[0m\u001b[0msleep\u001b[0m\u001b[1;33m(\u001b[0m\u001b[0mrandom\u001b[0m\u001b[1;33m.\u001b[0m\u001b[0muniform\u001b[0m\u001b[1;33m(\u001b[0m\u001b[1;36m3\u001b[0m\u001b[1;33m,\u001b[0m\u001b[1;36m4\u001b[0m\u001b[1;33m)\u001b[0m\u001b[1;33m)\u001b[0m\u001b[1;33m\u001b[0m\u001b[1;33m\u001b[0m\u001b[0m\n\u001b[0m\u001b[0;32m      7\u001b[0m     \u001b[0mmax_retries\u001b[0m \u001b[1;33m=\u001b[0m \u001b[1;36m6\u001b[0m\u001b[1;33m\u001b[0m\u001b[1;33m\u001b[0m\u001b[0m\n\u001b[0;32m      8\u001b[0m     \u001b[0mdelay_base\u001b[0m \u001b[1;33m=\u001b[0m \u001b[1;36m3\u001b[0m \u001b[1;31m#initial delay\u001b[0m\u001b[1;33m\u001b[0m\u001b[1;33m\u001b[0m\u001b[0m\n",
      "\u001b[1;31mKeyboardInterrupt\u001b[0m: "
     ]
    }
   ],
   "source": [
    "start = 0\n",
    "id_list = []\n",
    "success = True\n",
    "\n",
    "while success:\n",
    "    list_url = f\"https://ca.linkedin.com/jobs-guest/jobs/api/seeMoreJobPostings/search?keywords={title}&location={location}&start={start}\"\n",
    "\n",
    "    response = request_backoff(list_url)\n",
    "\n",
    "    print(response)\n",
    "    \n",
    "    list_data = response.text\n",
    "    list_soup = BeautifulSoup(list_data, \"html.parser\")\n",
    "    page_jobs = list_soup.find_all(\"li\")\n",
    "    \n",
    "    for job in page_jobs:\n",
    "    \n",
    "        base_card_div = job.find(\"div\", {\"class\" : \"base-card\"})\n",
    "        if base_card_div and 'data-entity-urn' in base_card_div.attrs: #talk about this: attrs that was missing\n",
    "            job_id = base_card_div.get('data-entity-urn').split(\":\")[3]\n",
    "            print(job_id)\n",
    "            id_list.append(job_id)\n",
    "            start += 1\n",
    "            \n",
    "            \n",
    "            \n",
    "    "
   ]
  },
  {
   "cell_type": "code",
   "execution_count": null,
   "id": "8d96b364",
   "metadata": {},
   "outputs": [],
   "source": []
  }
 ],
 "metadata": {
  "kernelspec": {
   "display_name": "Python 3 (ipykernel)",
   "language": "python",
   "name": "python3"
  },
  "language_info": {
   "codemirror_mode": {
    "name": "ipython",
    "version": 3
   },
   "file_extension": ".py",
   "mimetype": "text/x-python",
   "name": "python",
   "nbconvert_exporter": "python",
   "pygments_lexer": "ipython3",
   "version": "3.9.13"
  }
 },
 "nbformat": 4,
 "nbformat_minor": 5
}
